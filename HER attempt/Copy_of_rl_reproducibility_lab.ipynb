{
  "nbformat": 4,
  "nbformat_minor": 0,
  "metadata": {
    "colab": {
      "name": "Copy of rl_reproducibility_lab.ipynb",
      "provenance": [],
      "collapsed_sections": []
    },
    "kernelspec": {
      "name": "python3",
      "display_name": "Python 3"
    }
  },
  "cells": [
    {
      "cell_type": "code",
      "metadata": {
        "id": "DtG5ISX-xuUN",
        "colab_type": "code",
        "colab": {}
      },
      "source": [
        "# https://colab.research.google.com/drive/1EPZn-Hkm-l_FPmQNXn3G6HpCpJWUj7oWhttps://colab.research.google.com/drive/1EPZn-Hkm-l_FPmQNXn3G6HpCpJWUj7oW%matplotlib inline\n",
        "import os\n",
        "import numpy as np\n",
        "import matplotlib.pyplot as plt\n",
        "import sys\n",
        "\n",
        "import torch\n",
        "from torch import nn\n",
        "import torch.nn.functional as F\n",
        "from torch import optim\n",
        "from tqdm import tqdm as _tqdm\n",
        "\n",
        "import random\n",
        "import time\n",
        "from collections import defaultdict\n",
        "from collections import deque\n",
        "from copy import deepcopy \n",
        "\n",
        "\n",
        "def tqdm(*args, **kwargs):\n",
        "    return _tqdm(*args, **kwargs, mininterval=1)  # Safety, do not overflow buffer\n",
        "\n",
        "assert sys.version_info[:3] >= (3, 6, 0), \"Make sure you have Python 3.6 installed!\""
      ],
      "execution_count": 0,
      "outputs": []
    },
    {
      "cell_type": "code",
      "metadata": {
        "id": "yR7GS6T0yfiG",
        "colab_type": "code",
        "colab": {}
      },
      "source": [
        "# Import environments\n",
        "import gym\n",
        "cartpole_env = gym.envs.make(\"CartPole-v0\")\n",
        "mountaincar_env = gym.envs.make(\"MountainCar-v0\")"
      ],
      "execution_count": 0,
      "outputs": []
    },
    {
      "cell_type": "code",
      "metadata": {
        "id": "P8e39U0RzFQ-",
        "colab_type": "code",
        "colab": {}
      },
      "source": [
        "# Set seeds (this is a reproducibility lab after all)\n",
        "def set_seeds(seed):\n",
        "  torch.manual_seed(seed)\n",
        "  np.random.seed(seed)\n",
        "  random.seed(seed)\n",
        "  cartpole_env.seed(seed)"
      ],
      "execution_count": 0,
      "outputs": []
    },
    {
      "cell_type": "code",
      "metadata": {
        "id": "sK3j4tygyZI-",
        "colab_type": "code",
        "colab": {}
      },
      "source": [
        "# Q-net\n",
        "class QNetwork(nn.Module):\n",
        "    \n",
        "    def __init__(self, state_space, action_space, num_hidden=128):\n",
        "        nn.Module.__init__(self)\n",
        "        self.l1 = nn.Linear(state_space, num_hidden)\n",
        "        self.l2 = nn.Linear(num_hidden, action_space)\n",
        "\n",
        "    def forward(self, x):\n",
        "        x = self.l1(x)\n",
        "        x = F.relu(x)\n",
        "        x = self.l2(x)\n",
        "        return x"
      ],
      "execution_count": 0,
      "outputs": []
    },
    {
      "cell_type": "code",
      "metadata": {
        "id": "PyEyWi7iP0mJ",
        "colab_type": "code",
        "colab": {}
      },
      "source": [
        "# Create experience replay memory\n",
        "class ReplayMemory:\n",
        "    \n",
        "    def __init__(self, capacity):\n",
        "        self.capacity = capacity\n",
        "        self.memory = []\n",
        "\n",
        "    def push(self, transition):\n",
        "        self.memory.append(transition)\n",
        "        if len(self.memory) > self.capacity:\n",
        "            self.memory.pop(0)\n",
        "\n",
        "    def sample(self, batch_size):\n",
        "      return ([], random.sample(self.memory, batch_size), [])\n",
        "\n",
        "    def __len__(self):\n",
        "        return len(self.memory)"
      ],
      "execution_count": 0,
      "outputs": []
    },
    {
      "cell_type": "code",
      "metadata": {
        "id": "PlrMVgrfyrpB",
        "colab_type": "code",
        "colab": {}
      },
      "source": [
        "# Create prioritized experience replay memory\n",
        "class PrioritizedReplayMemory:\n",
        "    \n",
        "    def __init__(self, capacity, epsilon = 0.001, prioritization = 1):\n",
        "        self.capacity = capacity\n",
        "        self.memory = []\n",
        "        self.priorities = []\n",
        "        self.max_priority = 1\n",
        "        self.epsilon = epsilon\n",
        "        self.prioritization = prioritization\n",
        "\n",
        "    def push(self, transition):\n",
        "        self.memory.append(transition)\n",
        "        self.priorities.append(self.max_priority)\n",
        "        if len(self.memory) > self.capacity:\n",
        "            self.memory.pop(0)\n",
        "            self.priorities.pop(0)\n",
        "\n",
        "    def sample(self, batch_size):\n",
        "      # Proportional sampling based on priorities (rank based could be implemented as well)\n",
        "      # Note: I think we also have to use importance sampling\n",
        "      priorities = np.asarray(self.priorities)\n",
        "      priorities = priorities + self.epsilon # This is to make everything have non-zero probability\n",
        "      priorities = priorities ** self.prioritization # This controls how strongly we prioritize transitions with higher errors\n",
        "      priorities = priorities/priorities.sum()\n",
        "      sample = np.random.choice(list(range(len(self.memory))), batch_size, False, priorities)\n",
        "      return (sample, np.asarray(self.memory)[sample], priorities)\n",
        "\n",
        "    def __len__(self):\n",
        "        return len(self.memory)"
      ],
      "execution_count": 0,
      "outputs": []
    },
    {
      "cell_type": "code",
      "metadata": {
        "id": "sB609r9ZzjXl",
        "colab_type": "code",
        "colab": {}
      },
      "source": [
        "# Epsilon annealing\n",
        "def get_epsilon(it):\n",
        "    return max(0.05, 1 - it * 0.95 /1000)"
      ],
      "execution_count": 0,
      "outputs": []
    },
    {
      "cell_type": "code",
      "metadata": {
        "id": "71ctya_jYzjA",
        "colab_type": "code",
        "colab": {}
      },
      "source": [
        "# Beta annealing\n",
        "def get_beta(episode):\n",
        "    return 0.4 + (episode+1)/num_episodes*0.6"
      ],
      "execution_count": 0,
      "outputs": []
    },
    {
      "cell_type": "code",
      "metadata": {
        "id": "BeTeNikUzlga",
        "colab_type": "code",
        "colab": {}
      },
      "source": [
        "# Action selection\n",
        "def select_action(model, state, epsilon):\n",
        "    with torch.no_grad():\n",
        "        Q_values = model(torch.Tensor(state))\n",
        "        if random.random() > epsilon:\n",
        "            return Q_values.argmax().item()\n",
        "        else:\n",
        "            v = random.randint(0, Q_values.shape[0]-1)\n",
        "            return v"
      ],
      "execution_count": 0,
      "outputs": []
    },
    {
      "cell_type": "markdown",
      "metadata": {
        "id": "a3urh5WxK3PM",
        "colab_type": "text"
      },
      "source": [
        "## HER\n"
      ]
    },
    {
      "cell_type": "code",
      "metadata": {
        "id": "6eqhC1VvKVm-",
        "colab_type": "code",
        "colab": {}
      },
      "source": [
        "class HER:\n",
        "    def __init__(self):\n",
        "        self.buffer = deque()\n",
        "        \n",
        "    def reset(self):\n",
        "        self.buffer = deque()\n",
        "        \n",
        "    def push(self,item):\n",
        "        self.buffer.append(item)\n",
        "        \n",
        "    def backward(self):\n",
        "        transitions = len(self.buffer)\n",
        "        # the tuple is S, A, R', S', done\n",
        "        # the state has 3 dims because it is concatenated with goal\n",
        "        # in the beggining the goal is the last state in our baffer.\n",
        "\n",
        "        last_tuple = -1\n",
        "        state_goal = 0\n",
        "        reward = 2\n",
        "        next_state_goal = 3\n",
        "        done = 4\n",
        "        prev_goal = 2\n",
        "        goal = 2\n",
        "        state = 1\n",
        "\n",
        "        # print(self.buffer[last_tuple][next_state_goal])\n",
        "        # final_goal = self.buffer[last_tuple][next_state_goal][state]\n",
        "\n",
        "        #print(self.buffer[last_tuple][next_state_goal])\n",
        "        final_goal = self.buffer[last_tuple][next_state_goal][0]\n",
        "        #print(final_goal)\n",
        "        for i in range(transitions):\n",
        "            prev_tuple = -1-i\n",
        "            \n",
        "            #print(self.buffer[prev_tuple][next_state_goal])\n",
        "            # we iterate and set the goal to S and S' of the previous tuple.\n",
        "            to_list = list(self.buffer[prev_tuple])\n",
        "            to_list[0] = np.append(self.buffer[prev_tuple][state_goal], final_goal)\n",
        "            to_list[3] = np.append(self.buffer[prev_tuple][next_state_goal], final_goal)\n",
        "            to_list[2] = -1.0\n",
        "            to_list[4] = False\n",
        "            self.buffer[prev_tuple] = tuple(to_list)\n",
        "\n",
        "            # self.buffer[prev_tuple][reward] = -1.0\n",
        "            # self.buffer[prev_tuple][done] = False\n",
        "\n",
        "            # if the next state S' is the final_goal we set the reward and the done.\n",
        "            \n",
        "            n_state = self.buffer[prev_tuple][next_state_goal]\n",
        "            \n",
        "            if n_state[0] == final_goal:\n",
        "               to_list = list(self.buffer[prev_tuple])\n",
        "               to_list[2] = 0.0\n",
        "               to_list[4] = True\n",
        "               self.buffer[prev_tuple] = tuple(to_list)\n",
        "\n",
        "        return self.buffer"
      ],
      "execution_count": 0,
      "outputs": []
    },
    {
      "cell_type": "code",
      "metadata": {
        "id": "l3-3Up8XzvPt",
        "colab_type": "code",
        "colab": {}
      },
      "source": [
        "# Training code\n",
        "def compute_q_val(model, state, action):\n",
        "    return model(state).gather(1, action.unsqueeze(1)).squeeze()    \n",
        "    \n",
        "def compute_target(model, reward, next_state, done, discount_factor):\n",
        "    # done is a boolean (vector) that indicates if next_state is terminal (episode is done)\n",
        "    return reward + discount_factor * model(next_state).max(1)[0] * (1 - done.float())\n",
        "\n",
        "def train(model, memory, optimizer, batch_size, discount_factor, beta):\n",
        "    # DO NOT MODIFY THIS FUNCTION\n",
        "    \n",
        "    # don't learn without some decent experience\n",
        "    if len(memory) < batch_size:\n",
        "        return None\n",
        "\n",
        "    # random transition batch is taken from experience replay memory\n",
        "    indexes, transitions, priorities = memory.sample(batch_size)\n",
        "    \n",
        "    # transition is a list of 4-tuples, instead we want 4 vectors (as torch.Tensor's)\n",
        "    state, action, reward, next_state, done = zip(*transitions)\n",
        "    \n",
        "    # convert to PyTorch and define types\n",
        "    state = torch.tensor(state, dtype=torch.float)\n",
        "    action = torch.tensor(action, dtype=torch.int64)  # Need 64 bit to use them as index\n",
        "    next_state = torch.tensor(next_state, dtype=torch.float)\n",
        "    reward = torch.tensor(reward, dtype=torch.float)\n",
        "    done = torch.tensor(done, dtype=torch.uint8)  # Boolean\n",
        "    \n",
        "    # compute the q value\n",
        "    q_val = compute_q_val(model, state, action)\n",
        "    \n",
        "    with torch.no_grad():  # Don't compute gradient info for the target (semi-gradient)\n",
        "        target = compute_target(model, reward, next_state, done, discount_factor)\n",
        "        \n",
        "    # loss is measured from error between current and newly expected Q values\n",
        "    loss = F.smooth_l1_loss(q_val, target, reduce = False)\n",
        "    \n",
        "    # Update priorities\n",
        "    if isinstance(memory, PrioritizedReplayMemory):\n",
        "      errors = (target - q_val).abs()\n",
        "      for i, idx in enumerate(indexes):\n",
        "        error = errors[i].item()\n",
        "        memory.priorities[idx] = error\n",
        "      memory.max_priority = max(memory.priorities)\n",
        "      \n",
        "      # Multiply with importance sampling weights\n",
        "      iml = 1/len(memory)\n",
        "      for i, idx in enumerate(indexes):\n",
        "        loss[i] *=  (iml * 1/priorities[idx])**beta\n",
        "    \n",
        "    \n",
        "    loss = loss.mean() \n",
        "    # backpropagation of loss to Neural Network (PyTorch magic)\n",
        "    optimizer.zero_grad()\n",
        "    loss.backward()\n",
        "    optimizer.step()\n",
        "    \n",
        "    return loss.item()  # Returns a Python scalar, and releases history (similar to .detach())\n",
        "  \n",
        "def run_episodes(train, memory, env, num_episodes, batch_size, discount_factor, learn_rate, printable=False):\n",
        " \n",
        "  # Create Q-net\n",
        "  num_hidden = 128\n",
        "  goal = 1\n",
        "  state_space = env.reset().size\n",
        "  action_space = env.action_space.n\n",
        "  model = QNetwork(state_space + goal, action_space, num_hidden)\n",
        "  optimizer = optim.Adam(model.parameters(), learn_rate)\n",
        "  her = HER()\n",
        "\n",
        "  global_steps = 0  # Count the steps (do not reset at episode start, to compute epsilon)\n",
        "  episode_durations = []  #\n",
        "  for i in range(num_episodes):\n",
        "      State = env.reset()\n",
        "      Done = False\n",
        "      steps = 0\n",
        "      her.reset()\n",
        "      while not Done:\n",
        "          epsilon = get_epsilon(global_steps)\n",
        "          beta = get_beta(i)\n",
        "\n",
        "          m_State = deepcopy(State)\n",
        "          m_State = np.append(m_State, 0.5)\n",
        "         \n",
        "\n",
        "          Action = select_action(model, m_State, epsilon)\n",
        "          (State_, Reward, Done, _) = env.step(Action)\n",
        "\n",
        "          m_Action = deepcopy(Action)\n",
        "          m_Reward = deepcopy(Reward)\n",
        "          m_Next_State = deepcopy(State_)\n",
        "          m_Done = deepcopy(Done)\n",
        "\n",
        "          m_Next_State = np.append(m_Next_State, 0.5)\n",
        "\n",
        "          memory.push((m_State, m_Action, m_Reward, m_Next_State, m_Done))\n",
        "          her.push((State, Action, Reward, State_, Done))\n",
        "\n",
        "          train(model, memory, optimizer, batch_size, discount_factor, beta)\n",
        "          State = State_\n",
        "          steps += 1\n",
        "          global_steps += 1\n",
        "      \n",
        "      # HER\n",
        "      her_list = her.backward()\n",
        "      for item in her_list:\n",
        "          memory.push(item)\n",
        "\n",
        "      episode_durations.append(steps)\n",
        "      if printable:\n",
        "          if i % 10 == 0:\n",
        "            print(i)\n",
        "  return episode_durations"
      ],
      "execution_count": 0,
      "outputs": []
    },
    {
      "cell_type": "code",
      "metadata": {
        "id": "EU183jA5Rv6J",
        "colab_type": "code",
        "colab": {}
      },
      "source": [
        "def smooth(x, N):\n",
        "    cumsum = np.cumsum(np.insert(x, 0, 0)) \n",
        "    return (cumsum[N:] - cumsum[:-N]) / float(N)"
      ],
      "execution_count": 0,
      "outputs": []
    },
    {
      "cell_type": "code",
      "metadata": {
        "id": "B7zhUCtxz5i8",
        "colab_type": "code",
        "colab": {}
      },
      "source": [
        "# Hyperparameters\n",
        "  num_episodes = 100\n",
        "  batch_size = 64\n",
        "  discount_factor = 0.9\n",
        "  learn_rate = 1e-3\n",
        "  "
      ],
      "execution_count": 0,
      "outputs": []
    },
    {
      "cell_type": "code",
      "metadata": {
        "id": "znHPreC_RrBM",
        "colab_type": "code",
        "outputId": "157e8477-ee76-405d-e6b7-583bdc949e6e",
        "colab": {
          "base_uri": "https://localhost:8080/",
          "height": 458
        }
      },
      "source": [
        "# Create memory\n",
        "memory = ReplayMemory(10000)\n",
        "\n",
        "# Set seeds\n",
        "set_seeds(1)\n",
        "\n",
        "# Run\n",
        "episode_durations = run_episodes(train, memory, cartpole_env, num_episodes, batch_size, discount_factor, learn_rate)\n",
        "\n",
        "# Plot\n",
        "print(smooth(episode_durations, 10))\n",
        "plt.plot(smooth(episode_durations, 10))\n",
        "plt.title('Episode durations per episode')"
      ],
      "execution_count": 331,
      "outputs": [
        {
          "output_type": "stream",
          "text": [
            "/usr/local/lib/python3.6/dist-packages/torch/nn/_reduction.py:43: UserWarning: size_average and reduce args will be deprecated, please use reduction='none' instead.\n",
            "  warnings.warn(warning.format(ret))\n"
          ],
          "name": "stderr"
        },
        {
          "output_type": "stream",
          "text": [
            "[18.4 15.4 19.2 22.4 22.4 22.6 22.9 22.1 21.3 22.9 22.9 25.3 21.7 20.5\n",
            " 19.9 22.  23.4 25.7 26.1 26.1 25.5 22.8 23.2 20.3 20.7 18.4 16.7 13.9\n",
            " 13.  11.9 11.9 11.6 10.9 10.9 11.3 11.3 11.2 11.4 22.6 23.4 26.1 28.6\n",
            " 33.1 42.3 45.9 49.4 53.5 57.5 51.5 64.2 65.2 66.  65.  61.7 63.  64.3\n",
            " 67.3 68.8 74.7 65.4 65.5 71.5 71.2 74.3 77.5 79.2 84.9 92.6 92.7 88.7\n",
            " 84.6 89.5 89.6 84.3 89.6 87.1 78.  69.1 71.5 76.9 82.8 68.7 65.4 63.4\n",
            " 53.  53.3 49.7 51.7 41.  39.  38.1]\n"
          ],
          "name": "stdout"
        },
        {
          "output_type": "execute_result",
          "data": {
            "text/plain": [
              "Text(0.5, 1.0, 'Episode durations per episode')"
            ]
          },
          "metadata": {
            "tags": []
          },
          "execution_count": 331
        },
        {
          "output_type": "display_data",
          "data": {
            "image/png": "[encoded data removed]",
            "text/plain": [
              "<Figure size 432x288 with 1 Axes>"
            ]
          },
          "metadata": {
            "tags": []
          }
        }
      ]
    },
    {
      "cell_type": "code",
      "metadata": {
        "id": "qxMwMUu50kE9",
        "colab_type": "code",
        "outputId": "e40c1bcf-b97b-4c6d-b0af-f58908878f4e",
        "colab": {
          "base_uri": "https://localhost:8080/",
          "height": 334
        }
      },
      "source": [
        "\n",
        "# Create memory\n",
        "memory = PrioritizedReplayMemory(1000)\n",
        "\n",
        "# Set seeds\n",
        "set_seeds(1)\n",
        "\n",
        "# Run\n",
        "episode_durations = run_episodes(train, memory, cartpole_env, num_episodes, batch_size, discount_factor, learn_rate)\n",
        "\n",
        "# Plot\n",
        "plt.plot(smooth(episode_durations, 10))\n",
        "plt.title('Episode durations per episode')"
      ],
      "execution_count": 332,
      "outputs": [
        {
          "output_type": "stream",
          "text": [
            "/usr/local/lib/python3.6/dist-packages/torch/nn/_reduction.py:43: UserWarning: size_average and reduce args will be deprecated, please use reduction='none' instead.\n",
            "  warnings.warn(warning.format(ret))\n"
          ],
          "name": "stderr"
        },
        {
          "output_type": "execute_result",
          "data": {
            "text/plain": [
              "Text(0.5, 1.0, 'Episode durations per episode')"
            ]
          },
          "metadata": {
            "tags": []
          },
          "execution_count": 332
        },
        {
          "output_type": "display_data",
          "data": {
            "image/png": "[encoded data removed]",
            "text/plain": [
              "<Figure size 432x288 with 1 Axes>"
            ]
          },
          "metadata": {
            "tags": []
          }
        }
      ]
    },
    {
      "cell_type": "markdown",
      "metadata": {
        "id": "zJnN90cOdsJr",
        "colab_type": "text"
      },
      "source": [
        "## Pipeline"
      ]
    },
    {
      "cell_type": "code",
      "metadata": {
        "id": "RD7z_98-O5Qv",
        "colab_type": "code",
        "colab": {}
      },
      "source": [
        "def run_experiments(replay_func, environment, capacity, num_experiments, smoothing_factor, num_episodes, batch_size, discount_factor, learn_rate):\n",
        "    nr_datapoints = num_episodes - smoothing_factor + 1\n",
        "    experiments = np.zeros(nr_datapoints)\n",
        "    \n",
        "    for i in range(num_experiments):\n",
        "        print('Experiment', i)\n",
        "        memory = replay_func(capacity)\n",
        "        set_seeds(1)\n",
        "        episode_durations = run_episodes(train, memory, cartpole_env, num_episodes, batch_size, discount_factor, learn_rate)\n",
        "        experiments = np.vstack((experiments, np.array(smooth(episode_durations, smoothing_factor))))\n",
        "\n",
        "    # Delete initial zero entries    \n",
        "    np.delete(experiments, 0, 0)\n",
        "\n",
        "    # Plot\n",
        "    means, stds = np.mean(experiments, axis=0), np.std(experiments, axis=0)\n",
        "    plt.plot(means, color='blue')\n",
        "    plt.fill_between(np.arange(nr_datapoints), means - stds, means + stds, alpha=0.5)\n",
        "    plt.title('Average episode durations over {} experiments'.format(num_experiments))"
      ],
      "execution_count": 0,
      "outputs": []
    },
    {
      "cell_type": "code",
      "metadata": {
        "id": "ugfJt6Csd0NR",
        "colab_type": "code",
        "outputId": "b51867d3-c6cd-4c76-a9f3-709aa6502c09",
        "colab": {
          "base_uri": "https://localhost:8080/",
          "height": 370
        }
      },
      "source": [
        "run_experiments(ReplayMemory, cartpole_env, capacity=10000, num_experiments=3, smoothing_factor=10, num_episodes=100, batch_size=64, discount_factor=0.8, learn_rate=0.001)"
      ],
      "execution_count": 334,
      "outputs": [
        {
          "output_type": "stream",
          "text": [
            "Experiment 0\n"
          ],
          "name": "stdout"
        },
        {
          "output_type": "stream",
          "text": [
            "/usr/local/lib/python3.6/dist-packages/torch/nn/_reduction.py:43: UserWarning: size_average and reduce args will be deprecated, please use reduction='none' instead.\n",
            "  warnings.warn(warning.format(ret))\n"
          ],
          "name": "stderr"
        },
        {
          "output_type": "stream",
          "text": [
            "Experiment 1\n",
            "Experiment 2\n"
          ],
          "name": "stdout"
        },
        {
          "output_type": "display_data",
          "data": {
            "image/png": "[encoded data removed]",
            "text/plain": [
              "<Figure size 432x288 with 1 Axes>"
            ]
          },
          "metadata": {
            "tags": []
          }
        }
      ]
    },
    {
      "cell_type": "code",
      "metadata": {
        "id": "fXzqacUrq68_",
        "colab_type": "code",
        "outputId": "2b7d0f0b-69b7-4fe8-884f-3bd8aa2ddb0a",
        "colab": {
          "base_uri": "https://localhost:8080/",
          "height": 370
        }
      },
      "source": [
        "run_experiments(PrioritizedReplayMemory, cartpole_env, capacity=10000, num_experiments=3, smoothing_factor=10, num_episodes=100, batch_size=64, discount_factor=0.8, learn_rate=0.001)"
      ],
      "execution_count": 335,
      "outputs": [
        {
          "output_type": "stream",
          "text": [
            "Experiment 0\n"
          ],
          "name": "stdout"
        },
        {
          "output_type": "stream",
          "text": [
            "/usr/local/lib/python3.6/dist-packages/torch/nn/_reduction.py:43: UserWarning: size_average and reduce args will be deprecated, please use reduction='none' instead.\n",
            "  warnings.warn(warning.format(ret))\n"
          ],
          "name": "stderr"
        },
        {
          "output_type": "stream",
          "text": [
            "Experiment 1\n",
            "Experiment 2\n"
          ],
          "name": "stdout"
        },
        {
          "output_type": "display_data",
          "data": {
            "image/png": "[encoded data removed]",
            "text/plain": [
              "<Figure size 432x288 with 1 Axes>"
            ]
          },
          "metadata": {
            "tags": []
          }
        }
      ]
    },
    {
      "cell_type": "code",
      "metadata": {
        "id": "6cM9NVs2K7mH",
        "colab_type": "code",
        "colab": {}
      },
      "source": [
        ""
      ],
      "execution_count": 0,
      "outputs": []
    }
  ]
}